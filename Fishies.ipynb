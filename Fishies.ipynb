{
 "metadata": {
  "language_info": {
   "codemirror_mode": {
    "name": "ipython",
    "version": 3
   },
   "file_extension": ".py",
   "mimetype": "text/x-python",
   "name": "python",
   "nbconvert_exporter": "python",
   "pygments_lexer": "ipython3",
   "version": "3.6.9-final"
  },
  "orig_nbformat": 2,
  "kernelspec": {
   "name": "Python 3.6.9 64-bit ('learn-env': conda)",
   "display_name": "Python 3.6.9 64-bit ('learn-env': conda)",
   "metadata": {
    "interpreter": {
     "hash": "9ac4d3343b464ceb9c6b349fee6aeea784c980ce57d0bbc1775a5f7d482c030a"
    }
   }
  }
 },
 "nbformat": 4,
 "nbformat_minor": 2,
 "cells": [
  {
   "cell_type": "code",
   "execution_count": 12,
   "metadata": {},
   "outputs": [],
   "source": [
    "import pandas as pd\n",
    "import plotly.express as px\n",
    "\n",
    "age_grow = pd.read_csv('data\\AGE_GROW_TABLE.csv')\n",
    "fish = pd.read_csv('data\\FISH_TABLE.csv')\n",
    "lab_count = pd.read_csv('data\\LAB_COUNTS.csv')\n",
    "stomachs = pd.read_csv('data\\STOMACH_TABLE.csv')"
   ]
  },
  {
   "cell_type": "code",
   "execution_count": 42,
   "metadata": {},
   "outputs": [
    {
     "output_type": "execute_result",
     "data": {
      "text/plain": [
       "   ID      DATE      TIME  SECCHI  .SAMPLES STATION  NET_DIA  TEMP  ROT_1C1  \\\n",
       "0   1  4/3/2001  1/0/1900     0.3       2.0   nc_is   0.0314  59.0     36.0   \n",
       "1   2  4/3/2001  1/0/1900     1.5       2.0   ww_is   0.0314   0.0      4.0   \n",
       "2   3  4/3/2001  1/0/1900     0.6       2.0   ww_is   0.0314  57.0      4.0   \n",
       "3   4  4/3/2001  1/0/1900     4.6       2.0   nc_ow   0.0314  56.0    141.0   \n",
       "4   5  4/3/2001  1/0/1900     5.0       2.0   ww_ow   0.0314  56.0     66.0   \n",
       "\n",
       "   ROT_1C2  ...  DEPTH_2  CELL_VOL2       TOT_AVE      ROT_AVE      ACOP_AVE  \\\n",
       "0     35.0  ...      2.0      150.0  240843.96030  82404.46039  26273.885480   \n",
       "1      5.0  ...      1.0      150.0  107484.07840  17515.92400  54936.306490   \n",
       "2      5.0  ...      1.5      150.0   46178.34385  20169.85138   6900.212188   \n",
       "3    127.0  ...     40.0      200.0   51433.12040  18604.03345  10695.329220   \n",
       "4     42.0  ...     26.0      200.0   62551.03710  10574.88120  21598.889740   \n",
       "\n",
       "       NCOP_AVE     CLAD_AVE  BOS_AVE  OTH_AVE  comments  \n",
       "0  129777.07940  2388.535087      0.0      0.0       NaN  \n",
       "1   32643.31286  2388.535032      0.0      0.0       NaN  \n",
       "2   16985.13800  2123.142282      0.0      0.0       NaN  \n",
       "3   20116.77262  2016.985113      0.0      0.0       NaN  \n",
       "4   25518.53698  4858.729182      0.0      0.0       NaN  \n",
       "\n",
       "[5 rows x 82 columns]"
      ],
      "text/html": "<div>\n<style scoped>\n    .dataframe tbody tr th:only-of-type {\n        vertical-align: middle;\n    }\n\n    .dataframe tbody tr th {\n        vertical-align: top;\n    }\n\n    .dataframe thead th {\n        text-align: right;\n    }\n</style>\n<table border=\"1\" class=\"dataframe\">\n  <thead>\n    <tr style=\"text-align: right;\">\n      <th></th>\n      <th>ID</th>\n      <th>DATE</th>\n      <th>TIME</th>\n      <th>SECCHI</th>\n      <th>.SAMPLES</th>\n      <th>STATION</th>\n      <th>NET_DIA</th>\n      <th>TEMP</th>\n      <th>ROT_1C1</th>\n      <th>ROT_1C2</th>\n      <th>...</th>\n      <th>DEPTH_2</th>\n      <th>CELL_VOL2</th>\n      <th>TOT_AVE</th>\n      <th>ROT_AVE</th>\n      <th>ACOP_AVE</th>\n      <th>NCOP_AVE</th>\n      <th>CLAD_AVE</th>\n      <th>BOS_AVE</th>\n      <th>OTH_AVE</th>\n      <th>comments</th>\n    </tr>\n  </thead>\n  <tbody>\n    <tr>\n      <th>0</th>\n      <td>1</td>\n      <td>4/3/2001</td>\n      <td>1/0/1900</td>\n      <td>0.3</td>\n      <td>2.0</td>\n      <td>nc_is</td>\n      <td>0.0314</td>\n      <td>59.0</td>\n      <td>36.0</td>\n      <td>35.0</td>\n      <td>...</td>\n      <td>2.0</td>\n      <td>150.0</td>\n      <td>240843.96030</td>\n      <td>82404.46039</td>\n      <td>26273.885480</td>\n      <td>129777.07940</td>\n      <td>2388.535087</td>\n      <td>0.0</td>\n      <td>0.0</td>\n      <td>NaN</td>\n    </tr>\n    <tr>\n      <th>1</th>\n      <td>2</td>\n      <td>4/3/2001</td>\n      <td>1/0/1900</td>\n      <td>1.5</td>\n      <td>2.0</td>\n      <td>ww_is</td>\n      <td>0.0314</td>\n      <td>0.0</td>\n      <td>4.0</td>\n      <td>5.0</td>\n      <td>...</td>\n      <td>1.0</td>\n      <td>150.0</td>\n      <td>107484.07840</td>\n      <td>17515.92400</td>\n      <td>54936.306490</td>\n      <td>32643.31286</td>\n      <td>2388.535032</td>\n      <td>0.0</td>\n      <td>0.0</td>\n      <td>NaN</td>\n    </tr>\n    <tr>\n      <th>2</th>\n      <td>3</td>\n      <td>4/3/2001</td>\n      <td>1/0/1900</td>\n      <td>0.6</td>\n      <td>2.0</td>\n      <td>ww_is</td>\n      <td>0.0314</td>\n      <td>57.0</td>\n      <td>4.0</td>\n      <td>5.0</td>\n      <td>...</td>\n      <td>1.5</td>\n      <td>150.0</td>\n      <td>46178.34385</td>\n      <td>20169.85138</td>\n      <td>6900.212188</td>\n      <td>16985.13800</td>\n      <td>2123.142282</td>\n      <td>0.0</td>\n      <td>0.0</td>\n      <td>NaN</td>\n    </tr>\n    <tr>\n      <th>3</th>\n      <td>4</td>\n      <td>4/3/2001</td>\n      <td>1/0/1900</td>\n      <td>4.6</td>\n      <td>2.0</td>\n      <td>nc_ow</td>\n      <td>0.0314</td>\n      <td>56.0</td>\n      <td>141.0</td>\n      <td>127.0</td>\n      <td>...</td>\n      <td>40.0</td>\n      <td>200.0</td>\n      <td>51433.12040</td>\n      <td>18604.03345</td>\n      <td>10695.329220</td>\n      <td>20116.77262</td>\n      <td>2016.985113</td>\n      <td>0.0</td>\n      <td>0.0</td>\n      <td>NaN</td>\n    </tr>\n    <tr>\n      <th>4</th>\n      <td>5</td>\n      <td>4/3/2001</td>\n      <td>1/0/1900</td>\n      <td>5.0</td>\n      <td>2.0</td>\n      <td>ww_ow</td>\n      <td>0.0314</td>\n      <td>56.0</td>\n      <td>66.0</td>\n      <td>42.0</td>\n      <td>...</td>\n      <td>26.0</td>\n      <td>200.0</td>\n      <td>62551.03710</td>\n      <td>10574.88120</td>\n      <td>21598.889740</td>\n      <td>25518.53698</td>\n      <td>4858.729182</td>\n      <td>0.0</td>\n      <td>0.0</td>\n      <td>NaN</td>\n    </tr>\n  </tbody>\n</table>\n<p>5 rows × 82 columns</p>\n</div>"
     },
     "metadata": {},
     "execution_count": 42
    }
   ],
   "source": [
    "lab_count.head()"
   ]
  },
  {
   "cell_type": "code",
   "execution_count": 28,
   "metadata": {},
   "outputs": [
    {
     "output_type": "execute_result",
     "data": {
      "text/plain": [
       "143"
      ]
     },
     "metadata": {},
     "execution_count": 28
    }
   ],
   "source": [
    "len(age_grow)"
   ]
  },
  {
   "cell_type": "code",
   "execution_count": 27,
   "metadata": {},
   "outputs": [
    {
     "output_type": "execute_result",
     "data": {
      "text/plain": [
       "    FISH_ID  TL Season  AGE  Radius  AGE1  AGE2  AGE3  AGE4  AGE5  AGE6  AGE7  \\\n",
       "0  20060046   0   Fall    2     136    68   120     0     0     0     0     0   \n",
       "1  20060049   0   Fall    4     157    68   113   140   150     0     0     0   \n",
       "2  20060050   0   Fall    4     160    79   110   125   145     0     0     0   \n",
       "3  20060051   0   Fall    1     115    72     0     0     0     0     0     0   \n",
       "4  20060052   0   Fall    4     160    51    83   118   148     0     0     0   \n",
       "\n",
       "   AGE8  AGE9  AGE10  AGE11  AGE12  AGE13  AGE14  AGE15  \n",
       "0     0     0      0      0      0      0      0      0  \n",
       "1     0     0      0      0      0      0      0      0  \n",
       "2     0     0      0      0      0      0      0      0  \n",
       "3     0     0      0      0      0      0      0      0  \n",
       "4     0     0      0      0      0      0      0      0  "
      ],
      "text/html": "<div>\n<style scoped>\n    .dataframe tbody tr th:only-of-type {\n        vertical-align: middle;\n    }\n\n    .dataframe tbody tr th {\n        vertical-align: top;\n    }\n\n    .dataframe thead th {\n        text-align: right;\n    }\n</style>\n<table border=\"1\" class=\"dataframe\">\n  <thead>\n    <tr style=\"text-align: right;\">\n      <th></th>\n      <th>FISH_ID</th>\n      <th>TL</th>\n      <th>Season</th>\n      <th>AGE</th>\n      <th>Radius</th>\n      <th>AGE1</th>\n      <th>AGE2</th>\n      <th>AGE3</th>\n      <th>AGE4</th>\n      <th>AGE5</th>\n      <th>AGE6</th>\n      <th>AGE7</th>\n      <th>AGE8</th>\n      <th>AGE9</th>\n      <th>AGE10</th>\n      <th>AGE11</th>\n      <th>AGE12</th>\n      <th>AGE13</th>\n      <th>AGE14</th>\n      <th>AGE15</th>\n    </tr>\n  </thead>\n  <tbody>\n    <tr>\n      <th>0</th>\n      <td>20060046</td>\n      <td>0</td>\n      <td>Fall</td>\n      <td>2</td>\n      <td>136</td>\n      <td>68</td>\n      <td>120</td>\n      <td>0</td>\n      <td>0</td>\n      <td>0</td>\n      <td>0</td>\n      <td>0</td>\n      <td>0</td>\n      <td>0</td>\n      <td>0</td>\n      <td>0</td>\n      <td>0</td>\n      <td>0</td>\n      <td>0</td>\n      <td>0</td>\n    </tr>\n    <tr>\n      <th>1</th>\n      <td>20060049</td>\n      <td>0</td>\n      <td>Fall</td>\n      <td>4</td>\n      <td>157</td>\n      <td>68</td>\n      <td>113</td>\n      <td>140</td>\n      <td>150</td>\n      <td>0</td>\n      <td>0</td>\n      <td>0</td>\n      <td>0</td>\n      <td>0</td>\n      <td>0</td>\n      <td>0</td>\n      <td>0</td>\n      <td>0</td>\n      <td>0</td>\n      <td>0</td>\n    </tr>\n    <tr>\n      <th>2</th>\n      <td>20060050</td>\n      <td>0</td>\n      <td>Fall</td>\n      <td>4</td>\n      <td>160</td>\n      <td>79</td>\n      <td>110</td>\n      <td>125</td>\n      <td>145</td>\n      <td>0</td>\n      <td>0</td>\n      <td>0</td>\n      <td>0</td>\n      <td>0</td>\n      <td>0</td>\n      <td>0</td>\n      <td>0</td>\n      <td>0</td>\n      <td>0</td>\n      <td>0</td>\n    </tr>\n    <tr>\n      <th>3</th>\n      <td>20060051</td>\n      <td>0</td>\n      <td>Fall</td>\n      <td>1</td>\n      <td>115</td>\n      <td>72</td>\n      <td>0</td>\n      <td>0</td>\n      <td>0</td>\n      <td>0</td>\n      <td>0</td>\n      <td>0</td>\n      <td>0</td>\n      <td>0</td>\n      <td>0</td>\n      <td>0</td>\n      <td>0</td>\n      <td>0</td>\n      <td>0</td>\n      <td>0</td>\n    </tr>\n    <tr>\n      <th>4</th>\n      <td>20060052</td>\n      <td>0</td>\n      <td>Fall</td>\n      <td>4</td>\n      <td>160</td>\n      <td>51</td>\n      <td>83</td>\n      <td>118</td>\n      <td>148</td>\n      <td>0</td>\n      <td>0</td>\n      <td>0</td>\n      <td>0</td>\n      <td>0</td>\n      <td>0</td>\n      <td>0</td>\n      <td>0</td>\n      <td>0</td>\n      <td>0</td>\n      <td>0</td>\n    </tr>\n  </tbody>\n</table>\n</div>"
     },
     "metadata": {},
     "execution_count": 27
    }
   ],
   "source": [
    "age_grow.head()"
   ]
  },
  {
   "cell_type": "code",
   "execution_count": 25,
   "metadata": {},
   "outputs": [
    {
     "output_type": "execute_result",
     "data": {
      "text/plain": [
       "    FISH_ID      DATE  TREND GEAR Species GENDER   TL     WT   KTL   Wr  ...  \\\n",
       "0  19710001  3/9/1971   True   GN     LMB    NaN  263  250.0  1.37  0.0  ...   \n",
       "1  19710002  3/9/1971   True   GN     LMB    NaN  348  700.0  1.66  0.0  ...   \n",
       "2  19710003  3/9/1971   True   GN     LMB    NaN  332  555.0  1.51  0.0  ...   \n",
       "3  19710004  3/9/1971   True   GN     LMB    NaN  350  720.0  1.67  0.0  ...   \n",
       "4  19710005  3/9/1971   True   GN     LMB    NaN  300  455.0  1.68  0.0  ...   \n",
       "\n",
       "  STOMACH  GONADS  FAT_INDEX  PARASITE  MISC1_TEXT  MISC2_NUMBER MISC3_TEXT  \\\n",
       "0   False   False        NaN       NaN         NaN           NaN        NaN   \n",
       "1   False   False        NaN       NaN         NaN           NaN        NaN   \n",
       "2   False   False        NaN       NaN         NaN           NaN        NaN   \n",
       "3   False   False        NaN       NaN         NaN           NaN        NaN   \n",
       "4   False   False        NaN       NaN         NaN           NaN        NaN   \n",
       "\n",
       "   MISC4_NUMBER  SITE  KFL  \n",
       "0           NaN    RN  0.0  \n",
       "1           NaN    RN  0.0  \n",
       "2           NaN    RN  NaN  \n",
       "3           NaN    RN  NaN  \n",
       "4           NaN    RN  NaN  \n",
       "\n",
       "[5 rows x 22 columns]"
      ],
      "text/html": "<div>\n<style scoped>\n    .dataframe tbody tr th:only-of-type {\n        vertical-align: middle;\n    }\n\n    .dataframe tbody tr th {\n        vertical-align: top;\n    }\n\n    .dataframe thead th {\n        text-align: right;\n    }\n</style>\n<table border=\"1\" class=\"dataframe\">\n  <thead>\n    <tr style=\"text-align: right;\">\n      <th></th>\n      <th>FISH_ID</th>\n      <th>DATE</th>\n      <th>TREND</th>\n      <th>GEAR</th>\n      <th>Species</th>\n      <th>GENDER</th>\n      <th>TL</th>\n      <th>WT</th>\n      <th>KTL</th>\n      <th>Wr</th>\n      <th>...</th>\n      <th>STOMACH</th>\n      <th>GONADS</th>\n      <th>FAT_INDEX</th>\n      <th>PARASITE</th>\n      <th>MISC1_TEXT</th>\n      <th>MISC2_NUMBER</th>\n      <th>MISC3_TEXT</th>\n      <th>MISC4_NUMBER</th>\n      <th>SITE</th>\n      <th>KFL</th>\n    </tr>\n  </thead>\n  <tbody>\n    <tr>\n      <th>0</th>\n      <td>19710001</td>\n      <td>3/9/1971</td>\n      <td>True</td>\n      <td>GN</td>\n      <td>LMB</td>\n      <td>NaN</td>\n      <td>263</td>\n      <td>250.0</td>\n      <td>1.37</td>\n      <td>0.0</td>\n      <td>...</td>\n      <td>False</td>\n      <td>False</td>\n      <td>NaN</td>\n      <td>NaN</td>\n      <td>NaN</td>\n      <td>NaN</td>\n      <td>NaN</td>\n      <td>NaN</td>\n      <td>RN</td>\n      <td>0.0</td>\n    </tr>\n    <tr>\n      <th>1</th>\n      <td>19710002</td>\n      <td>3/9/1971</td>\n      <td>True</td>\n      <td>GN</td>\n      <td>LMB</td>\n      <td>NaN</td>\n      <td>348</td>\n      <td>700.0</td>\n      <td>1.66</td>\n      <td>0.0</td>\n      <td>...</td>\n      <td>False</td>\n      <td>False</td>\n      <td>NaN</td>\n      <td>NaN</td>\n      <td>NaN</td>\n      <td>NaN</td>\n      <td>NaN</td>\n      <td>NaN</td>\n      <td>RN</td>\n      <td>0.0</td>\n    </tr>\n    <tr>\n      <th>2</th>\n      <td>19710003</td>\n      <td>3/9/1971</td>\n      <td>True</td>\n      <td>GN</td>\n      <td>LMB</td>\n      <td>NaN</td>\n      <td>332</td>\n      <td>555.0</td>\n      <td>1.51</td>\n      <td>0.0</td>\n      <td>...</td>\n      <td>False</td>\n      <td>False</td>\n      <td>NaN</td>\n      <td>NaN</td>\n      <td>NaN</td>\n      <td>NaN</td>\n      <td>NaN</td>\n      <td>NaN</td>\n      <td>RN</td>\n      <td>NaN</td>\n    </tr>\n    <tr>\n      <th>3</th>\n      <td>19710004</td>\n      <td>3/9/1971</td>\n      <td>True</td>\n      <td>GN</td>\n      <td>LMB</td>\n      <td>NaN</td>\n      <td>350</td>\n      <td>720.0</td>\n      <td>1.67</td>\n      <td>0.0</td>\n      <td>...</td>\n      <td>False</td>\n      <td>False</td>\n      <td>NaN</td>\n      <td>NaN</td>\n      <td>NaN</td>\n      <td>NaN</td>\n      <td>NaN</td>\n      <td>NaN</td>\n      <td>RN</td>\n      <td>NaN</td>\n    </tr>\n    <tr>\n      <th>4</th>\n      <td>19710005</td>\n      <td>3/9/1971</td>\n      <td>True</td>\n      <td>GN</td>\n      <td>LMB</td>\n      <td>NaN</td>\n      <td>300</td>\n      <td>455.0</td>\n      <td>1.68</td>\n      <td>0.0</td>\n      <td>...</td>\n      <td>False</td>\n      <td>False</td>\n      <td>NaN</td>\n      <td>NaN</td>\n      <td>NaN</td>\n      <td>NaN</td>\n      <td>NaN</td>\n      <td>NaN</td>\n      <td>RN</td>\n      <td>NaN</td>\n    </tr>\n  </tbody>\n</table>\n<p>5 rows × 22 columns</p>\n</div>"
     },
     "metadata": {},
     "execution_count": 25
    }
   ],
   "source": [
    "fish.head()"
   ]
  },
  {
   "cell_type": "code",
   "execution_count": 26,
   "metadata": {},
   "outputs": [
    {
     "output_type": "execute_result",
     "data": {
      "text/plain": [
       "Index(['FISH_ID', 'DATE', 'TREND', 'GEAR', 'Species', 'GENDER', 'TL', 'WT',\n",
       "       'KTL', 'Wr', 'MATURITY', 'AGE_STRUCTURE', 'STOMACH', 'GONADS',\n",
       "       'FAT_INDEX', 'PARASITE', 'MISC1_TEXT', 'MISC2_NUMBER', 'MISC3_TEXT',\n",
       "       'MISC4_NUMBER', 'SITE', 'KFL'],\n",
       "      dtype='object')"
      ]
     },
     "metadata": {},
     "execution_count": 26
    }
   ],
   "source": [
    "fish.columns"
   ]
  },
  {
   "cell_type": "code",
   "execution_count": null,
   "metadata": {},
   "outputs": [],
   "source": [
    "len(fish)"
   ]
  },
  {
   "cell_type": "code",
   "execution_count": null,
   "metadata": {},
   "outputs": [],
   "source": [
    "fish['DATE'].unique()"
   ]
  },
  {
   "cell_type": "code",
   "execution_count": 13,
   "metadata": {},
   "outputs": [
    {
     "output_type": "execute_result",
     "data": {
      "text/plain": [
       "gaz     1\n",
       "GLB     1\n",
       "BC      1\n",
       "GAF     1\n",
       "GZC     1\n",
       "cct     1\n",
       "70      1\n",
       "gnf     1\n",
       "SNB     1\n",
       "CTT     1\n",
       "bcl     1\n",
       "sgf     1\n",
       "WHS     1\n",
       "el      1\n",
       "wal     1\n",
       "RLC     1\n",
       "snb     1\n",
       "YGH     1\n",
       "tfs`    1\n",
       "GZDL    1\n",
       "Name: Species, dtype: int64"
      ]
     },
     "metadata": {},
     "execution_count": 13
    }
   ],
   "source": [
    "fish['Species'].value_counts().sort_values()[0:20]"
   ]
  },
  {
   "cell_type": "code",
   "execution_count": 14,
   "metadata": {},
   "outputs": [],
   "source": [
    "fish['Species'] = fish['Species'].map(lambda x: x.upper())"
   ]
  },
  {
   "cell_type": "code",
   "execution_count": 17,
   "metadata": {},
   "outputs": [
    {
     "output_type": "execute_result",
     "data": {
      "text/plain": [
       "  index  Species\n",
       "0   GSF    17342\n",
       "1   STB    16821\n",
       "2   BGL    13968\n",
       "3   SMB    13760\n",
       "4   LMB    12059"
      ],
      "text/html": "<div>\n<style scoped>\n    .dataframe tbody tr th:only-of-type {\n        vertical-align: middle;\n    }\n\n    .dataframe tbody tr th {\n        vertical-align: top;\n    }\n\n    .dataframe thead th {\n        text-align: right;\n    }\n</style>\n<table border=\"1\" class=\"dataframe\">\n  <thead>\n    <tr style=\"text-align: right;\">\n      <th></th>\n      <th>index</th>\n      <th>Species</th>\n    </tr>\n  </thead>\n  <tbody>\n    <tr>\n      <th>0</th>\n      <td>GSF</td>\n      <td>17342</td>\n    </tr>\n    <tr>\n      <th>1</th>\n      <td>STB</td>\n      <td>16821</td>\n    </tr>\n    <tr>\n      <th>2</th>\n      <td>BGL</td>\n      <td>13968</td>\n    </tr>\n    <tr>\n      <th>3</th>\n      <td>SMB</td>\n      <td>13760</td>\n    </tr>\n    <tr>\n      <th>4</th>\n      <td>LMB</td>\n      <td>12059</td>\n    </tr>\n  </tbody>\n</table>\n</div>"
     },
     "metadata": {},
     "execution_count": 17
    }
   ],
   "source": [
    "fish_counts = pd.DataFrame(fish['Species'].value_counts()[0:35]).reset_index()\n",
    "fish_counts.head()"
   ]
  },
  {
   "cell_type": "code",
   "execution_count": 18,
   "metadata": {},
   "outputs": [
    {
     "output_type": "display_data",
     "data": {
      "application/vnd.plotly.v1+json": {
       "config": {
        "plotlyServerURL": "https://plot.ly"
       },
       "data": [
        {
         "alignmentgroup": "True",
         "hoverlabel": {
          "namelength": 0
         },
         "hovertemplate": "index=%{x}<br>Species=%{y}",
         "legendgroup": "",
         "marker": {
          "color": "#636efa"
         },
         "name": "",
         "offsetgroup": "",
         "orientation": "v",
         "showlegend": false,
         "textposition": "auto",
         "type": "bar",
         "x": [
          "GSF",
          "STB",
          "BGL",
          "SMB",
          "LMB",
          "WAE",
          "GZD",
          "BLC",
          "CCF",
          "TFS",
          "CRP",
          "RSH",
          "YBH",
          "FMS",
          "RBT",
          "BLG",
          "RZB",
          "WHC",
          "OTH",
          "BBH",
          "BNT",
          "GSH",
          "BCL",
          "RDS",
          "CC",
          "GBL",
          "CAT",
          "SJ",
          "GAF",
          "BG",
          "BFL",
          "CPM",
          "BM,",
          "NPK",
          "SFH"
         ],
         "xaxis": "x",
         "y": [
          17342,
          16821,
          13968,
          13760,
          12059,
          8064,
          6379,
          4586,
          3250,
          2888,
          2278,
          428,
          315,
          167,
          164,
          75,
          39,
          35,
          20,
          18,
          16,
          13,
          11,
          10,
          5,
          5,
          4,
          4,
          3,
          3,
          3,
          3,
          2,
          2,
          2
         ],
         "yaxis": "y"
        }
       ],
       "layout": {
        "barmode": "relative",
        "height": 600,
        "legend": {
         "tracegroupgap": 0
        },
        "margin": {
         "t": 60
        },
        "template": {
         "data": {
          "bar": [
           {
            "error_x": {
             "color": "#2a3f5f"
            },
            "error_y": {
             "color": "#2a3f5f"
            },
            "marker": {
             "line": {
              "color": "#E5ECF6",
              "width": 0.5
             }
            },
            "type": "bar"
           }
          ],
          "barpolar": [
           {
            "marker": {
             "line": {
              "color": "#E5ECF6",
              "width": 0.5
             }
            },
            "type": "barpolar"
           }
          ],
          "carpet": [
           {
            "aaxis": {
             "endlinecolor": "#2a3f5f",
             "gridcolor": "white",
             "linecolor": "white",
             "minorgridcolor": "white",
             "startlinecolor": "#2a3f5f"
            },
            "baxis": {
             "endlinecolor": "#2a3f5f",
             "gridcolor": "white",
             "linecolor": "white",
             "minorgridcolor": "white",
             "startlinecolor": "#2a3f5f"
            },
            "type": "carpet"
           }
          ],
          "choropleth": [
           {
            "colorbar": {
             "outlinewidth": 0,
             "ticks": ""
            },
            "type": "choropleth"
           }
          ],
          "contour": [
           {
            "colorbar": {
             "outlinewidth": 0,
             "ticks": ""
            },
            "colorscale": [
             [
              0,
              "#0d0887"
             ],
             [
              0.1111111111111111,
              "#46039f"
             ],
             [
              0.2222222222222222,
              "#7201a8"
             ],
             [
              0.3333333333333333,
              "#9c179e"
             ],
             [
              0.4444444444444444,
              "#bd3786"
             ],
             [
              0.5555555555555556,
              "#d8576b"
             ],
             [
              0.6666666666666666,
              "#ed7953"
             ],
             [
              0.7777777777777778,
              "#fb9f3a"
             ],
             [
              0.8888888888888888,
              "#fdca26"
             ],
             [
              1,
              "#f0f921"
             ]
            ],
            "type": "contour"
           }
          ],
          "contourcarpet": [
           {
            "colorbar": {
             "outlinewidth": 0,
             "ticks": ""
            },
            "type": "contourcarpet"
           }
          ],
          "heatmap": [
           {
            "colorbar": {
             "outlinewidth": 0,
             "ticks": ""
            },
            "colorscale": [
             [
              0,
              "#0d0887"
             ],
             [
              0.1111111111111111,
              "#46039f"
             ],
             [
              0.2222222222222222,
              "#7201a8"
             ],
             [
              0.3333333333333333,
              "#9c179e"
             ],
             [
              0.4444444444444444,
              "#bd3786"
             ],
             [
              0.5555555555555556,
              "#d8576b"
             ],
             [
              0.6666666666666666,
              "#ed7953"
             ],
             [
              0.7777777777777778,
              "#fb9f3a"
             ],
             [
              0.8888888888888888,
              "#fdca26"
             ],
             [
              1,
              "#f0f921"
             ]
            ],
            "type": "heatmap"
           }
          ],
          "heatmapgl": [
           {
            "colorbar": {
             "outlinewidth": 0,
             "ticks": ""
            },
            "colorscale": [
             [
              0,
              "#0d0887"
             ],
             [
              0.1111111111111111,
              "#46039f"
             ],
             [
              0.2222222222222222,
              "#7201a8"
             ],
             [
              0.3333333333333333,
              "#9c179e"
             ],
             [
              0.4444444444444444,
              "#bd3786"
             ],
             [
              0.5555555555555556,
              "#d8576b"
             ],
             [
              0.6666666666666666,
              "#ed7953"
             ],
             [
              0.7777777777777778,
              "#fb9f3a"
             ],
             [
              0.8888888888888888,
              "#fdca26"
             ],
             [
              1,
              "#f0f921"
             ]
            ],
            "type": "heatmapgl"
           }
          ],
          "histogram": [
           {
            "marker": {
             "colorbar": {
              "outlinewidth": 0,
              "ticks": ""
             }
            },
            "type": "histogram"
           }
          ],
          "histogram2d": [
           {
            "colorbar": {
             "outlinewidth": 0,
             "ticks": ""
            },
            "colorscale": [
             [
              0,
              "#0d0887"
             ],
             [
              0.1111111111111111,
              "#46039f"
             ],
             [
              0.2222222222222222,
              "#7201a8"
             ],
             [
              0.3333333333333333,
              "#9c179e"
             ],
             [
              0.4444444444444444,
              "#bd3786"
             ],
             [
              0.5555555555555556,
              "#d8576b"
             ],
             [
              0.6666666666666666,
              "#ed7953"
             ],
             [
              0.7777777777777778,
              "#fb9f3a"
             ],
             [
              0.8888888888888888,
              "#fdca26"
             ],
             [
              1,
              "#f0f921"
             ]
            ],
            "type": "histogram2d"
           }
          ],
          "histogram2dcontour": [
           {
            "colorbar": {
             "outlinewidth": 0,
             "ticks": ""
            },
            "colorscale": [
             [
              0,
              "#0d0887"
             ],
             [
              0.1111111111111111,
              "#46039f"
             ],
             [
              0.2222222222222222,
              "#7201a8"
             ],
             [
              0.3333333333333333,
              "#9c179e"
             ],
             [
              0.4444444444444444,
              "#bd3786"
             ],
             [
              0.5555555555555556,
              "#d8576b"
             ],
             [
              0.6666666666666666,
              "#ed7953"
             ],
             [
              0.7777777777777778,
              "#fb9f3a"
             ],
             [
              0.8888888888888888,
              "#fdca26"
             ],
             [
              1,
              "#f0f921"
             ]
            ],
            "type": "histogram2dcontour"
           }
          ],
          "mesh3d": [
           {
            "colorbar": {
             "outlinewidth": 0,
             "ticks": ""
            },
            "type": "mesh3d"
           }
          ],
          "parcoords": [
           {
            "line": {
             "colorbar": {
              "outlinewidth": 0,
              "ticks": ""
             }
            },
            "type": "parcoords"
           }
          ],
          "scatter": [
           {
            "marker": {
             "colorbar": {
              "outlinewidth": 0,
              "ticks": ""
             }
            },
            "type": "scatter"
           }
          ],
          "scatter3d": [
           {
            "line": {
             "colorbar": {
              "outlinewidth": 0,
              "ticks": ""
             }
            },
            "marker": {
             "colorbar": {
              "outlinewidth": 0,
              "ticks": ""
             }
            },
            "type": "scatter3d"
           }
          ],
          "scattercarpet": [
           {
            "marker": {
             "colorbar": {
              "outlinewidth": 0,
              "ticks": ""
             }
            },
            "type": "scattercarpet"
           }
          ],
          "scattergeo": [
           {
            "marker": {
             "colorbar": {
              "outlinewidth": 0,
              "ticks": ""
             }
            },
            "type": "scattergeo"
           }
          ],
          "scattergl": [
           {
            "marker": {
             "colorbar": {
              "outlinewidth": 0,
              "ticks": ""
             }
            },
            "type": "scattergl"
           }
          ],
          "scattermapbox": [
           {
            "marker": {
             "colorbar": {
              "outlinewidth": 0,
              "ticks": ""
             }
            },
            "type": "scattermapbox"
           }
          ],
          "scatterpolar": [
           {
            "marker": {
             "colorbar": {
              "outlinewidth": 0,
              "ticks": ""
             }
            },
            "type": "scatterpolar"
           }
          ],
          "scatterpolargl": [
           {
            "marker": {
             "colorbar": {
              "outlinewidth": 0,
              "ticks": ""
             }
            },
            "type": "scatterpolargl"
           }
          ],
          "scatterternary": [
           {
            "marker": {
             "colorbar": {
              "outlinewidth": 0,
              "ticks": ""
             }
            },
            "type": "scatterternary"
           }
          ],
          "surface": [
           {
            "colorbar": {
             "outlinewidth": 0,
             "ticks": ""
            },
            "colorscale": [
             [
              0,
              "#0d0887"
             ],
             [
              0.1111111111111111,
              "#46039f"
             ],
             [
              0.2222222222222222,
              "#7201a8"
             ],
             [
              0.3333333333333333,
              "#9c179e"
             ],
             [
              0.4444444444444444,
              "#bd3786"
             ],
             [
              0.5555555555555556,
              "#d8576b"
             ],
             [
              0.6666666666666666,
              "#ed7953"
             ],
             [
              0.7777777777777778,
              "#fb9f3a"
             ],
             [
              0.8888888888888888,
              "#fdca26"
             ],
             [
              1,
              "#f0f921"
             ]
            ],
            "type": "surface"
           }
          ],
          "table": [
           {
            "cells": {
             "fill": {
              "color": "#EBF0F8"
             },
             "line": {
              "color": "white"
             }
            },
            "header": {
             "fill": {
              "color": "#C8D4E3"
             },
             "line": {
              "color": "white"
             }
            },
            "type": "table"
           }
          ]
         },
         "layout": {
          "annotationdefaults": {
           "arrowcolor": "#2a3f5f",
           "arrowhead": 0,
           "arrowwidth": 1
          },
          "colorscale": {
           "diverging": [
            [
             0,
             "#8e0152"
            ],
            [
             0.1,
             "#c51b7d"
            ],
            [
             0.2,
             "#de77ae"
            ],
            [
             0.3,
             "#f1b6da"
            ],
            [
             0.4,
             "#fde0ef"
            ],
            [
             0.5,
             "#f7f7f7"
            ],
            [
             0.6,
             "#e6f5d0"
            ],
            [
             0.7,
             "#b8e186"
            ],
            [
             0.8,
             "#7fbc41"
            ],
            [
             0.9,
             "#4d9221"
            ],
            [
             1,
             "#276419"
            ]
           ],
           "sequential": [
            [
             0,
             "#0d0887"
            ],
            [
             0.1111111111111111,
             "#46039f"
            ],
            [
             0.2222222222222222,
             "#7201a8"
            ],
            [
             0.3333333333333333,
             "#9c179e"
            ],
            [
             0.4444444444444444,
             "#bd3786"
            ],
            [
             0.5555555555555556,
             "#d8576b"
            ],
            [
             0.6666666666666666,
             "#ed7953"
            ],
            [
             0.7777777777777778,
             "#fb9f3a"
            ],
            [
             0.8888888888888888,
             "#fdca26"
            ],
            [
             1,
             "#f0f921"
            ]
           ],
           "sequentialminus": [
            [
             0,
             "#0d0887"
            ],
            [
             0.1111111111111111,
             "#46039f"
            ],
            [
             0.2222222222222222,
             "#7201a8"
            ],
            [
             0.3333333333333333,
             "#9c179e"
            ],
            [
             0.4444444444444444,
             "#bd3786"
            ],
            [
             0.5555555555555556,
             "#d8576b"
            ],
            [
             0.6666666666666666,
             "#ed7953"
            ],
            [
             0.7777777777777778,
             "#fb9f3a"
            ],
            [
             0.8888888888888888,
             "#fdca26"
            ],
            [
             1,
             "#f0f921"
            ]
           ]
          },
          "colorway": [
           "#636efa",
           "#EF553B",
           "#00cc96",
           "#ab63fa",
           "#FFA15A",
           "#19d3f3",
           "#FF6692",
           "#B6E880",
           "#FF97FF",
           "#FECB52"
          ],
          "font": {
           "color": "#2a3f5f"
          },
          "geo": {
           "bgcolor": "white",
           "lakecolor": "white",
           "landcolor": "#E5ECF6",
           "showlakes": true,
           "showland": true,
           "subunitcolor": "white"
          },
          "hoverlabel": {
           "align": "left"
          },
          "hovermode": "closest",
          "mapbox": {
           "style": "light"
          },
          "paper_bgcolor": "white",
          "plot_bgcolor": "#E5ECF6",
          "polar": {
           "angularaxis": {
            "gridcolor": "white",
            "linecolor": "white",
            "ticks": ""
           },
           "bgcolor": "#E5ECF6",
           "radialaxis": {
            "gridcolor": "white",
            "linecolor": "white",
            "ticks": ""
           }
          },
          "scene": {
           "xaxis": {
            "backgroundcolor": "#E5ECF6",
            "gridcolor": "white",
            "gridwidth": 2,
            "linecolor": "white",
            "showbackground": true,
            "ticks": "",
            "zerolinecolor": "white"
           },
           "yaxis": {
            "backgroundcolor": "#E5ECF6",
            "gridcolor": "white",
            "gridwidth": 2,
            "linecolor": "white",
            "showbackground": true,
            "ticks": "",
            "zerolinecolor": "white"
           },
           "zaxis": {
            "backgroundcolor": "#E5ECF6",
            "gridcolor": "white",
            "gridwidth": 2,
            "linecolor": "white",
            "showbackground": true,
            "ticks": "",
            "zerolinecolor": "white"
           }
          },
          "shapedefaults": {
           "line": {
            "color": "#2a3f5f"
           }
          },
          "ternary": {
           "aaxis": {
            "gridcolor": "white",
            "linecolor": "white",
            "ticks": ""
           },
           "baxis": {
            "gridcolor": "white",
            "linecolor": "white",
            "ticks": ""
           },
           "bgcolor": "#E5ECF6",
           "caxis": {
            "gridcolor": "white",
            "linecolor": "white",
            "ticks": ""
           }
          },
          "title": {
           "x": 0.05
          },
          "xaxis": {
           "automargin": true,
           "gridcolor": "white",
           "linecolor": "white",
           "ticks": "",
           "zerolinecolor": "white",
           "zerolinewidth": 2
          },
          "yaxis": {
           "automargin": true,
           "gridcolor": "white",
           "linecolor": "white",
           "ticks": "",
           "zerolinecolor": "white",
           "zerolinewidth": 2
          }
         }
        },
        "xaxis": {
         "anchor": "y",
         "domain": [
          0,
          0.98
         ],
         "title": {
          "text": "index"
         }
        },
        "yaxis": {
         "anchor": "x",
         "domain": [
          0,
          1
         ],
         "title": {
          "text": "Species"
         }
        }
       }
      }
     },
     "metadata": {}
    }
   ],
   "source": [
    "fig = px.bar(fish_counts, x='index', y='Species')\n",
    "fig.show()"
   ]
  },
  {
   "cell_type": "code",
   "execution_count": 19,
   "metadata": {},
   "outputs": [],
   "source": [
    "fs = fish.merge(stomachs, on='FISH_ID')"
   ]
  },
  {
   "cell_type": "code",
   "execution_count": 20,
   "metadata": {},
   "outputs": [
    {
     "output_type": "execute_result",
     "data": {
      "text/plain": [
       "    FISH_ID       DATE  TREND GEAR Species GENDER   TL     WT   KTL   Wr  ...  \\\n",
       "0  19710001   3/9/1971   True   GN     LMB    NaN  263  250.0  1.37  0.0  ...   \n",
       "1  20041918  11/1/2004   True   gn     WAE      u  265  150.0  0.80  0.0  ...   \n",
       "2  20041919  11/1/2004   True   gn     WAE      u  404  576.0  0.87  0.0  ...   \n",
       "3  20041920  11/1/2004   True   gn     WAE      u  390  499.0  0.84  0.0  ...   \n",
       "4  20041921  11/1/2004  False   gn     WAE      u  390  460.0  0.77  0.0  ...   \n",
       "\n",
       "  AQUATIC_VEG  AQUATIC_INSECT  TRES_INSECT  Tres_Veg  DEBRIS  OTHER  \\\n",
       "0       False           False        False     False   False  False   \n",
       "1       False           False        False     False   False  False   \n",
       "2       False           False        False     False   False  False   \n",
       "3       False           False        False     False   False  False   \n",
       "4       False           False        False     False   False  False   \n",
       "\n",
       "  Flannelmouth  Mosquito_Fish  Snail  Muscle  \n",
       "0        False          False  False   False  \n",
       "1        False          False  False   False  \n",
       "2        False          False  False   False  \n",
       "3        False          False  False   False  \n",
       "4        False          False  False   False  \n",
       "\n",
       "[5 rows x 61 columns]"
      ],
      "text/html": "<div>\n<style scoped>\n    .dataframe tbody tr th:only-of-type {\n        vertical-align: middle;\n    }\n\n    .dataframe tbody tr th {\n        vertical-align: top;\n    }\n\n    .dataframe thead th {\n        text-align: right;\n    }\n</style>\n<table border=\"1\" class=\"dataframe\">\n  <thead>\n    <tr style=\"text-align: right;\">\n      <th></th>\n      <th>FISH_ID</th>\n      <th>DATE</th>\n      <th>TREND</th>\n      <th>GEAR</th>\n      <th>Species</th>\n      <th>GENDER</th>\n      <th>TL</th>\n      <th>WT</th>\n      <th>KTL</th>\n      <th>Wr</th>\n      <th>...</th>\n      <th>AQUATIC_VEG</th>\n      <th>AQUATIC_INSECT</th>\n      <th>TRES_INSECT</th>\n      <th>Tres_Veg</th>\n      <th>DEBRIS</th>\n      <th>OTHER</th>\n      <th>Flannelmouth</th>\n      <th>Mosquito_Fish</th>\n      <th>Snail</th>\n      <th>Muscle</th>\n    </tr>\n  </thead>\n  <tbody>\n    <tr>\n      <th>0</th>\n      <td>19710001</td>\n      <td>3/9/1971</td>\n      <td>True</td>\n      <td>GN</td>\n      <td>LMB</td>\n      <td>NaN</td>\n      <td>263</td>\n      <td>250.0</td>\n      <td>1.37</td>\n      <td>0.0</td>\n      <td>...</td>\n      <td>False</td>\n      <td>False</td>\n      <td>False</td>\n      <td>False</td>\n      <td>False</td>\n      <td>False</td>\n      <td>False</td>\n      <td>False</td>\n      <td>False</td>\n      <td>False</td>\n    </tr>\n    <tr>\n      <th>1</th>\n      <td>20041918</td>\n      <td>11/1/2004</td>\n      <td>True</td>\n      <td>gn</td>\n      <td>WAE</td>\n      <td>u</td>\n      <td>265</td>\n      <td>150.0</td>\n      <td>0.80</td>\n      <td>0.0</td>\n      <td>...</td>\n      <td>False</td>\n      <td>False</td>\n      <td>False</td>\n      <td>False</td>\n      <td>False</td>\n      <td>False</td>\n      <td>False</td>\n      <td>False</td>\n      <td>False</td>\n      <td>False</td>\n    </tr>\n    <tr>\n      <th>2</th>\n      <td>20041919</td>\n      <td>11/1/2004</td>\n      <td>True</td>\n      <td>gn</td>\n      <td>WAE</td>\n      <td>u</td>\n      <td>404</td>\n      <td>576.0</td>\n      <td>0.87</td>\n      <td>0.0</td>\n      <td>...</td>\n      <td>False</td>\n      <td>False</td>\n      <td>False</td>\n      <td>False</td>\n      <td>False</td>\n      <td>False</td>\n      <td>False</td>\n      <td>False</td>\n      <td>False</td>\n      <td>False</td>\n    </tr>\n    <tr>\n      <th>3</th>\n      <td>20041920</td>\n      <td>11/1/2004</td>\n      <td>True</td>\n      <td>gn</td>\n      <td>WAE</td>\n      <td>u</td>\n      <td>390</td>\n      <td>499.0</td>\n      <td>0.84</td>\n      <td>0.0</td>\n      <td>...</td>\n      <td>False</td>\n      <td>False</td>\n      <td>False</td>\n      <td>False</td>\n      <td>False</td>\n      <td>False</td>\n      <td>False</td>\n      <td>False</td>\n      <td>False</td>\n      <td>False</td>\n    </tr>\n    <tr>\n      <th>4</th>\n      <td>20041921</td>\n      <td>11/1/2004</td>\n      <td>False</td>\n      <td>gn</td>\n      <td>WAE</td>\n      <td>u</td>\n      <td>390</td>\n      <td>460.0</td>\n      <td>0.77</td>\n      <td>0.0</td>\n      <td>...</td>\n      <td>False</td>\n      <td>False</td>\n      <td>False</td>\n      <td>False</td>\n      <td>False</td>\n      <td>False</td>\n      <td>False</td>\n      <td>False</td>\n      <td>False</td>\n      <td>False</td>\n    </tr>\n  </tbody>\n</table>\n<p>5 rows × 61 columns</p>\n</div>"
     },
     "metadata": {},
     "execution_count": 20
    }
   ],
   "source": [
    "fs.head()"
   ]
  },
  {
   "cell_type": "code",
   "execution_count": 21,
   "metadata": {},
   "outputs": [
    {
     "output_type": "execute_result",
     "data": {
      "text/plain": [
       "(102775, 10098, 10098)"
      ]
     },
     "metadata": {},
     "execution_count": 21
    }
   ],
   "source": [
    "len(fish), len(stomachs), len(fs)"
   ]
  },
  {
   "cell_type": "code",
   "execution_count": 22,
   "metadata": {},
   "outputs": [
    {
     "output_type": "execute_result",
     "data": {
      "text/plain": [
       "STB    4228\n",
       "SMB    2599\n",
       "WAE    2063\n",
       "LMB     687\n",
       "CCF     369\n",
       "YBH      63\n",
       "BLC      51\n",
       "Name: Species, dtype: int64"
      ]
     },
     "metadata": {},
     "execution_count": 22
    }
   ],
   "source": [
    "top_species = fs['Species'].value_counts()[0:7]\n",
    "top_species_names = ['STB', 'SMB', 'WAE', 'LMB', 'CCF', 'YBH', 'BLC']\n",
    "top_species"
   ]
  },
  {
   "cell_type": "code",
   "execution_count": 32,
   "metadata": {},
   "outputs": [
    {
     "output_type": "execute_result",
     "data": {
      "text/plain": [
       "Index(['FISH_ID', 'DATE', 'TREND', 'GEAR', 'Species', 'GENDER', 'TL', 'WT',\n",
       "       'KTL', 'Wr', 'MATURITY', 'AGE_STRUCTURE', 'STOMACH', 'GONADS',\n",
       "       'FAT_INDEX', 'PARASITE', 'MISC1_TEXT', 'MISC2_NUMBER', 'MISC3_TEXT',\n",
       "       'MISC4_NUMBER', 'SITE', 'KFL', 'EMPTY', 'ZOOPLANKTON', 'CRAYFISH',\n",
       "       'UNIDENTIFIED_FISH', 'SHAD', 'THREADFIN', 'GIZZARD', 'CENTRARCHID',\n",
       "       'BLUEGILL', 'GREEN', 'CRAPPIE', 'BLACK_CRAPPIE', 'WHITE_CRAPPIE',\n",
       "       'BLACK_BASS', 'LARGEMOUTH', 'SMALLMOUTH', 'STRIPER', 'WALLEYE',\n",
       "       'CHANNEL_CATFISH', 'BLACK_BULLHEAD', 'YELLOW_BULLHEAD', 'RED_SHINER',\n",
       "       'RAZORBACK', 'PIKEMINNOW', 'BONEYTAIL', 'HUMPBACK', 'CARP',\n",
       "       'OTHER_FISH', 'ALGAE', 'AQUATIC_VEG', 'AQUATIC_INSECT', 'TRES_INSECT',\n",
       "       'Tres_Veg', 'DEBRIS', 'OTHER', 'Flannelmouth', 'Mosquito_Fish', 'Snail',\n",
       "       'Muscle'],\n",
       "      dtype='object')"
      ]
     },
     "metadata": {},
     "execution_count": 32
    }
   ],
   "source": [
    "top_species_df.columns"
   ]
  },
  {
   "cell_type": "code",
   "execution_count": 30,
   "metadata": {},
   "outputs": [
    {
     "output_type": "execute_result",
     "data": {
      "text/plain": [
       "61"
      ]
     },
     "metadata": {},
     "execution_count": 30
    }
   ],
   "source": [
    "top_species_df = fs.loc[fs['Species'].isin(top_species_names)]\n",
    "top_species_df\n",
    "len(top_species_df.columns)"
   ]
  },
  {
   "cell_type": "code",
   "execution_count": 31,
   "metadata": {},
   "outputs": [
    {
     "output_type": "execute_result",
     "data": {
      "text/plain": [
       "    FISH_ID       DATE  TREND GEAR Species GENDER   TL     WT   KTL   Wr  ...  \\\n",
       "0  19710001   3/9/1971   True   GN     LMB    NaN  263  250.0  1.37  0.0  ...   \n",
       "1  20041918  11/1/2004   True   gn     WAE      u  265  150.0  0.80  0.0  ...   \n",
       "2  20041919  11/1/2004   True   gn     WAE      u  404  576.0  0.87  0.0  ...   \n",
       "3  20041920  11/1/2004   True   gn     WAE      u  390  499.0  0.84  0.0  ...   \n",
       "4  20041921  11/1/2004  False   gn     WAE      u  390  460.0  0.77  0.0  ...   \n",
       "\n",
       "  AQUATIC_VEG  AQUATIC_INSECT  TRES_INSECT  Tres_Veg  DEBRIS  OTHER  \\\n",
       "0       False           False        False     False   False  False   \n",
       "1       False           False        False     False   False  False   \n",
       "2       False           False        False     False   False  False   \n",
       "3       False           False        False     False   False  False   \n",
       "4       False           False        False     False   False  False   \n",
       "\n",
       "  Flannelmouth  Mosquito_Fish  Snail  Muscle  \n",
       "0        False          False  False   False  \n",
       "1        False          False  False   False  \n",
       "2        False          False  False   False  \n",
       "3        False          False  False   False  \n",
       "4        False          False  False   False  \n",
       "\n",
       "[5 rows x 61 columns]"
      ],
      "text/html": "<div>\n<style scoped>\n    .dataframe tbody tr th:only-of-type {\n        vertical-align: middle;\n    }\n\n    .dataframe tbody tr th {\n        vertical-align: top;\n    }\n\n    .dataframe thead th {\n        text-align: right;\n    }\n</style>\n<table border=\"1\" class=\"dataframe\">\n  <thead>\n    <tr style=\"text-align: right;\">\n      <th></th>\n      <th>FISH_ID</th>\n      <th>DATE</th>\n      <th>TREND</th>\n      <th>GEAR</th>\n      <th>Species</th>\n      <th>GENDER</th>\n      <th>TL</th>\n      <th>WT</th>\n      <th>KTL</th>\n      <th>Wr</th>\n      <th>...</th>\n      <th>AQUATIC_VEG</th>\n      <th>AQUATIC_INSECT</th>\n      <th>TRES_INSECT</th>\n      <th>Tres_Veg</th>\n      <th>DEBRIS</th>\n      <th>OTHER</th>\n      <th>Flannelmouth</th>\n      <th>Mosquito_Fish</th>\n      <th>Snail</th>\n      <th>Muscle</th>\n    </tr>\n  </thead>\n  <tbody>\n    <tr>\n      <th>0</th>\n      <td>19710001</td>\n      <td>3/9/1971</td>\n      <td>True</td>\n      <td>GN</td>\n      <td>LMB</td>\n      <td>NaN</td>\n      <td>263</td>\n      <td>250.0</td>\n      <td>1.37</td>\n      <td>0.0</td>\n      <td>...</td>\n      <td>False</td>\n      <td>False</td>\n      <td>False</td>\n      <td>False</td>\n      <td>False</td>\n      <td>False</td>\n      <td>False</td>\n      <td>False</td>\n      <td>False</td>\n      <td>False</td>\n    </tr>\n    <tr>\n      <th>1</th>\n      <td>20041918</td>\n      <td>11/1/2004</td>\n      <td>True</td>\n      <td>gn</td>\n      <td>WAE</td>\n      <td>u</td>\n      <td>265</td>\n      <td>150.0</td>\n      <td>0.80</td>\n      <td>0.0</td>\n      <td>...</td>\n      <td>False</td>\n      <td>False</td>\n      <td>False</td>\n      <td>False</td>\n      <td>False</td>\n      <td>False</td>\n      <td>False</td>\n      <td>False</td>\n      <td>False</td>\n      <td>False</td>\n    </tr>\n    <tr>\n      <th>2</th>\n      <td>20041919</td>\n      <td>11/1/2004</td>\n      <td>True</td>\n      <td>gn</td>\n      <td>WAE</td>\n      <td>u</td>\n      <td>404</td>\n      <td>576.0</td>\n      <td>0.87</td>\n      <td>0.0</td>\n      <td>...</td>\n      <td>False</td>\n      <td>False</td>\n      <td>False</td>\n      <td>False</td>\n      <td>False</td>\n      <td>False</td>\n      <td>False</td>\n      <td>False</td>\n      <td>False</td>\n      <td>False</td>\n    </tr>\n    <tr>\n      <th>3</th>\n      <td>20041920</td>\n      <td>11/1/2004</td>\n      <td>True</td>\n      <td>gn</td>\n      <td>WAE</td>\n      <td>u</td>\n      <td>390</td>\n      <td>499.0</td>\n      <td>0.84</td>\n      <td>0.0</td>\n      <td>...</td>\n      <td>False</td>\n      <td>False</td>\n      <td>False</td>\n      <td>False</td>\n      <td>False</td>\n      <td>False</td>\n      <td>False</td>\n      <td>False</td>\n      <td>False</td>\n      <td>False</td>\n    </tr>\n    <tr>\n      <th>4</th>\n      <td>20041921</td>\n      <td>11/1/2004</td>\n      <td>False</td>\n      <td>gn</td>\n      <td>WAE</td>\n      <td>u</td>\n      <td>390</td>\n      <td>460.0</td>\n      <td>0.77</td>\n      <td>0.0</td>\n      <td>...</td>\n      <td>False</td>\n      <td>False</td>\n      <td>False</td>\n      <td>False</td>\n      <td>False</td>\n      <td>False</td>\n      <td>False</td>\n      <td>False</td>\n      <td>False</td>\n      <td>False</td>\n    </tr>\n  </tbody>\n</table>\n<p>5 rows × 61 columns</p>\n</div>"
     },
     "metadata": {},
     "execution_count": 31
    }
   ],
   "source": [
    "top_species_df.head()"
   ]
  },
  {
   "cell_type": "code",
   "execution_count": 45,
   "metadata": {},
   "outputs": [
    {
     "output_type": "execute_result",
     "data": {
      "text/plain": [
       "0.91    247\n",
       "0.90    241\n",
       "0.87    232\n",
       "0.94    231\n",
       "0.93    223\n",
       "       ... \n",
       "2.31      1\n",
       "1.87      1\n",
       "2.01      1\n",
       "0.37      1\n",
       "2.45      1\n",
       "Name: KTL, Length: 188, dtype: int64"
      ]
     },
     "metadata": {},
     "execution_count": 45
    }
   ],
   "source": [
    "top_species_df['KTL'].value_counts()"
   ]
  },
  {
   "cell_type": "code",
   "execution_count": 44,
   "metadata": {},
   "outputs": [
    {
     "output_type": "execute_result",
     "data": {
      "text/plain": [
       "GN    5245\n",
       "gn    4806\n",
       "gh       8\n",
       "AN       1\n",
       "Name: GEAR, dtype: int64"
      ]
     },
     "metadata": {},
     "execution_count": 44
    }
   ],
   "source": [
    "top_species_df['GEAR'].value_counts()"
   ]
  },
  {
   "cell_type": "code",
   "execution_count": 38,
   "metadata": {},
   "outputs": [
    {
     "output_type": "execute_result",
     "data": {
      "text/plain": [
       "2.0     2570\n",
       "3.0     2243\n",
       "1.0     2092\n",
       "0.0     1783\n",
       "4.0      921\n",
       "9.0      444\n",
       "19.0       1\n",
       "91.0       1\n",
       "93.0       1\n",
       "29.0       1\n",
       "6.0        1\n",
       "32.0       1\n",
       "Name: FAT_INDEX, dtype: int64"
      ]
     },
     "metadata": {},
     "execution_count": 38
    }
   ],
   "source": [
    "top_species_df['FAT_INDEX'].value_counts()"
   ]
  },
  {
   "cell_type": "code",
   "execution_count": 40,
   "metadata": {},
   "outputs": [
    {
     "output_type": "execute_result",
     "data": {
      "text/plain": [
       "9.0    7084\n",
       "2.0    1026\n",
       "1.0     963\n",
       "0.0     527\n",
       "3.0     457\n",
       "Name: PARASITE, dtype: int64"
      ]
     },
     "metadata": {},
     "execution_count": 40
    }
   ],
   "source": [
    "top_species_df['PARASITE'].value_counts()"
   ]
  },
  {
   "cell_type": "code",
   "execution_count": 34,
   "metadata": {},
   "outputs": [
    {
     "output_type": "execute_result",
     "data": {
      "text/plain": [
       "      MATURITY  AGE_STRUCTURE\n",
       "0          NaN          False\n",
       "1          NaN          False\n",
       "2          NaN          False\n",
       "3          NaN          False\n",
       "4          NaN          False\n",
       "...        ...            ...\n",
       "10093      NaN          False\n",
       "10094      NaN          False\n",
       "10095      NaN          False\n",
       "10096      NaN          False\n",
       "10097      NaN          False\n",
       "\n",
       "[10060 rows x 2 columns]"
      ],
      "text/html": "<div>\n<style scoped>\n    .dataframe tbody tr th:only-of-type {\n        vertical-align: middle;\n    }\n\n    .dataframe tbody tr th {\n        vertical-align: top;\n    }\n\n    .dataframe thead th {\n        text-align: right;\n    }\n</style>\n<table border=\"1\" class=\"dataframe\">\n  <thead>\n    <tr style=\"text-align: right;\">\n      <th></th>\n      <th>MATURITY</th>\n      <th>AGE_STRUCTURE</th>\n    </tr>\n  </thead>\n  <tbody>\n    <tr>\n      <th>0</th>\n      <td>NaN</td>\n      <td>False</td>\n    </tr>\n    <tr>\n      <th>1</th>\n      <td>NaN</td>\n      <td>False</td>\n    </tr>\n    <tr>\n      <th>2</th>\n      <td>NaN</td>\n      <td>False</td>\n    </tr>\n    <tr>\n      <th>3</th>\n      <td>NaN</td>\n      <td>False</td>\n    </tr>\n    <tr>\n      <th>4</th>\n      <td>NaN</td>\n      <td>False</td>\n    </tr>\n    <tr>\n      <th>...</th>\n      <td>...</td>\n      <td>...</td>\n    </tr>\n    <tr>\n      <th>10093</th>\n      <td>NaN</td>\n      <td>False</td>\n    </tr>\n    <tr>\n      <th>10094</th>\n      <td>NaN</td>\n      <td>False</td>\n    </tr>\n    <tr>\n      <th>10095</th>\n      <td>NaN</td>\n      <td>False</td>\n    </tr>\n    <tr>\n      <th>10096</th>\n      <td>NaN</td>\n      <td>False</td>\n    </tr>\n    <tr>\n      <th>10097</th>\n      <td>NaN</td>\n      <td>False</td>\n    </tr>\n  </tbody>\n</table>\n<p>10060 rows × 2 columns</p>\n</div>"
     },
     "metadata": {},
     "execution_count": 34
    }
   ],
   "source": [
    "top_species_df[['MATURITY', 'AGE_STRUCTURE']]"
   ]
  },
  {
   "cell_type": "code",
   "execution_count": 41,
   "metadata": {},
   "outputs": [
    {
     "output_type": "execute_result",
     "data": {
      "text/plain": [
       "2.0     2570\n",
       "3.0     2243\n",
       "1.0     2092\n",
       "0.0     1783\n",
       "4.0      921\n",
       "9.0      444\n",
       "19.0       1\n",
       "91.0       1\n",
       "93.0       1\n",
       "29.0       1\n",
       "6.0        1\n",
       "32.0       1\n",
       "Name: FAT_INDEX, dtype: int64"
      ]
     },
     "metadata": {},
     "execution_count": 41
    }
   ],
   "source": [
    "top_species_df['FAT_INDEX'].value_counts()"
   ]
  },
  {
   "cell_type": "code",
   "execution_count": null,
   "metadata": {},
   "outputs": [],
   "source": []
  },
  {
   "cell_type": "code",
   "execution_count": null,
   "metadata": {},
   "outputs": [],
   "source": []
  },
  {
   "cell_type": "code",
   "execution_count": null,
   "metadata": {},
   "outputs": [],
   "source": [
    "stb = fs.loc[fs['Species'] == 'STB']"
   ]
  },
  {
   "cell_type": "code",
   "execution_count": null,
   "metadata": {},
   "outputs": [],
   "source": [
    "stb.columns"
   ]
  },
  {
   "cell_type": "code",
   "execution_count": null,
   "metadata": {},
   "outputs": [],
   "source": [
    "stb_food = stb.drop(['FISH_ID', 'DATE', 'TREND', 'GEAR', 'Species', 'GENDER', 'TL', 'WT',\n",
    "       'KTL', 'Wr', 'MATURITY', 'AGE_STRUCTURE', 'STOMACH', 'GONADS',\n",
    "       'FAT_INDEX', 'PARASITE', 'MISC1_TEXT', 'MISC2_NUMBER', 'MISC3_TEXT',\n",
    "       'MISC4_NUMBER', 'SITE', 'KFL'], axis=1)"
   ]
  },
  {
   "cell_type": "code",
   "execution_count": null,
   "metadata": {},
   "outputs": [],
   "source": [
    "stb_food.head()"
   ]
  },
  {
   "cell_type": "code",
   "execution_count": null,
   "metadata": {},
   "outputs": [],
   "source": [
    "# pd.get_dummies(stb_food, columns=['EMPTY', 'ZOOPLANKTON', 'CRAYFISH',\n",
    "#        'UNIDENTIFIED_FISH', 'SHAD', 'THREADFIN', 'GIZZARD', 'CENTRARCHID',\n",
    "#        'BLUEGILL', 'GREEN', 'CRAPPIE', 'BLACK_CRAPPIE', 'WHITE_CRAPPIE',\n",
    "#        'BLACK_BASS', 'LARGEMOUTH', 'SMALLMOUTH', 'STRIPER', 'WALLEYE',\n",
    "#        'CHANNEL_CATFISH', 'BLACK_BULLHEAD', 'YELLOW_BULLHEAD', 'RED_SHINER',\n",
    "#        'RAZORBACK', 'PIKEMINNOW', 'BONEYTAIL', 'HUMPBACK', 'CARP',\n",
    "#        'OTHER_FISH', 'ALGAE', 'AQUATIC_VEG', 'AQUATIC_INSECT', 'TRES_INSECT',\n",
    "#        'Tres_Veg', 'DEBRIS', 'OTHER', 'Flannelmouth', 'Mosquito_Fish', 'Snail',\n",
    "#        'Muscle'])\n",
    "\n",
    "food_dict_stb = {}   \n",
    "for column in stb_food.columns:\n",
    "    food_dict_stb[column] = stb_food[column].sum()\n",
    "\n",
    "dum = food_dict_stb.copy()\n",
    "for key in dum.keys():\n",
    "    if dum[key] < 10:\n",
    "        food_dict_stb.pop(key)\n",
    "\n",
    "food_dict_stb.pop('EMPTY')\n",
    "food_dict_stb.pop('UNIDENTIFIED_FISH')"
   ]
  },
  {
   "cell_type": "code",
   "execution_count": null,
   "metadata": {},
   "outputs": [],
   "source": [
    "fdstb = pd.DataFrame(food_dict_stb, index=range(0,len(food_dict_stb)))\n",
    "\n",
    "import plotly.graph_objects as go\n",
    "\n",
    "fig = go.Figure()\n",
    "fig.add_trace(go.Bar(x=list(food_dict_stb.keys()), y=list(food_dict_stb.values())))"
   ]
  },
  {
   "cell_type": "code",
   "execution_count": null,
   "metadata": {},
   "outputs": [],
   "source": [
    "stb.head()\n",
    "\n",
    "fig = px.scatter(top_species_df, x='TL', y='WT', color='Species')\n",
    "fig.show()"
   ]
  },
  {
   "cell_type": "code",
   "execution_count": null,
   "metadata": {},
   "outputs": [],
   "source": [
    "top_species_df.head()\n",
    "top_species_df['l/w ratio'] = top_species_df['TL'] / top_species_df['WT']\n",
    "top_species_df['color'] = 'blue'"
   ]
  },
  {
   "cell_type": "code",
   "execution_count": null,
   "metadata": {},
   "outputs": [],
   "source": [
    "fig = go.Figure()\n",
    "fig.add_trace(go.Bar(x=list(top_species_df['Species'].unique, y=list(top_species_df.groupby['Species'].sum()['l/w']))))"
   ]
  },
  {
   "cell_type": "code",
   "execution_count": null,
   "metadata": {},
   "outputs": [],
   "source": [
    "list(top_species_df['Species'].unique())"
   ]
  },
  {
   "cell_type": "code",
   "execution_count": null,
   "metadata": {},
   "outputs": [],
   "source": [
    "top_species_df.groupby('Species').mean()"
   ]
  },
  {
   "cell_type": "code",
   "execution_count": null,
   "metadata": {},
   "outputs": [],
   "source": [
    "import seaborn as sns\n",
    "\n",
    "sns.distplot(top_species_df['l/w ratio'])"
   ]
  },
  {
   "cell_type": "code",
   "execution_count": null,
   "metadata": {},
   "outputs": [],
   "source": []
  }
 ]
}